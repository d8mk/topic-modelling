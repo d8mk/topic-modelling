{
 "cells": [
  {
   "cell_type": "code",
   "execution_count": 33,
   "metadata": {
    "collapsed": true,
    "id": "rsE8mY_0a9SN"
   },
   "outputs": [],
   "source": [
    "import pandas as pd"
   ]
  },
  {
   "cell_type": "code",
   "source": [
    "df_usc_topic = pd.read_csv ('usc_topic.csv', usecols = [\"Section\", \"Topics\"])\n",
    "df_usc_topic.columns = [\"USC_SECTION\", \"Topics\"]\n",
    "df_usc_topic.head()"
   ],
   "metadata": {
    "colab": {
     "base_uri": "https://localhost:8080/",
     "height": 206
    },
    "id": "gYeqlht7eaDb",
    "outputId": "c3bb3c28-8b47-4017-d7a5-f7684639dc54"
   },
   "execution_count": 34,
   "outputs": [
    {
     "data": {
      "text/plain": "  USC_SECTION  Topics\n0           1       5\n1           2      -1\n2           3      -1\n3           4       3\n4           5      14",
      "text/html": "<div>\n<style scoped>\n    .dataframe tbody tr th:only-of-type {\n        vertical-align: middle;\n    }\n\n    .dataframe tbody tr th {\n        vertical-align: top;\n    }\n\n    .dataframe thead th {\n        text-align: right;\n    }\n</style>\n<table border=\"1\" class=\"dataframe\">\n  <thead>\n    <tr style=\"text-align: right;\">\n      <th></th>\n      <th>USC_SECTION</th>\n      <th>Topics</th>\n    </tr>\n  </thead>\n  <tbody>\n    <tr>\n      <th>0</th>\n      <td>1</td>\n      <td>5</td>\n    </tr>\n    <tr>\n      <th>1</th>\n      <td>2</td>\n      <td>-1</td>\n    </tr>\n    <tr>\n      <th>2</th>\n      <td>3</td>\n      <td>-1</td>\n    </tr>\n    <tr>\n      <th>3</th>\n      <td>4</td>\n      <td>3</td>\n    </tr>\n    <tr>\n      <th>4</th>\n      <td>5</td>\n      <td>14</td>\n    </tr>\n  </tbody>\n</table>\n</div>"
     },
     "execution_count": 34,
     "metadata": {},
     "output_type": "execute_result"
    }
   ]
  },
  {
   "cell_type": "code",
   "execution_count": 35,
   "outputs": [
    {
     "data": {
      "text/plain": "  USC_SECTION  CFR_TITLE CFR_PART\n0          62         26      509\n1          62         26      513\n2          62         26      520\n3          62         26      521\n4         143         26      521",
      "text/html": "<div>\n<style scoped>\n    .dataframe tbody tr th:only-of-type {\n        vertical-align: middle;\n    }\n\n    .dataframe tbody tr th {\n        vertical-align: top;\n    }\n\n    .dataframe thead th {\n        text-align: right;\n    }\n</style>\n<table border=\"1\" class=\"dataframe\">\n  <thead>\n    <tr style=\"text-align: right;\">\n      <th></th>\n      <th>USC_SECTION</th>\n      <th>CFR_TITLE</th>\n      <th>CFR_PART</th>\n    </tr>\n  </thead>\n  <tbody>\n    <tr>\n      <th>0</th>\n      <td>62</td>\n      <td>26</td>\n      <td>509</td>\n    </tr>\n    <tr>\n      <th>1</th>\n      <td>62</td>\n      <td>26</td>\n      <td>513</td>\n    </tr>\n    <tr>\n      <th>2</th>\n      <td>62</td>\n      <td>26</td>\n      <td>520</td>\n    </tr>\n    <tr>\n      <th>3</th>\n      <td>62</td>\n      <td>26</td>\n      <td>521</td>\n    </tr>\n    <tr>\n      <th>4</th>\n      <td>143</td>\n      <td>26</td>\n      <td>521</td>\n    </tr>\n  </tbody>\n</table>\n</div>"
     },
     "execution_count": 35,
     "metadata": {},
     "output_type": "execute_result"
    }
   ],
   "source": [
    "df_usc_sections = pd.read_csv ('usc_sections.csv')\n",
    "df_usc_sections.columns = [\"USC_SECTION\", \"CFR_TITLE\", \"CFR_PART\"]\n",
    "# df_usc_sections = df_usc_sections.loc[df_usc_sections[\"CFR_TITLE\"] == 26]\n",
    "df_usc_sections.head()"
   ],
   "metadata": {
    "colab": {
     "base_uri": "https://localhost:8080/",
     "height": 206
    },
    "id": "_rkTXIfna9ST",
    "outputId": "75dbf882-f2db-4f47-88c0-a54ec096c62a"
   }
  },
  {
   "cell_type": "code",
   "execution_count": 36,
   "outputs": [
    {
     "data": {
      "text/plain": "  CFR_PART  Topics\n0        1       4\n1       11      -1\n2       12      -1\n3       13       0\n4      141      -1",
      "text/html": "<div>\n<style scoped>\n    .dataframe tbody tr th:only-of-type {\n        vertical-align: middle;\n    }\n\n    .dataframe tbody tr th {\n        vertical-align: top;\n    }\n\n    .dataframe thead th {\n        text-align: right;\n    }\n</style>\n<table border=\"1\" class=\"dataframe\">\n  <thead>\n    <tr style=\"text-align: right;\">\n      <th></th>\n      <th>CFR_PART</th>\n      <th>Topics</th>\n    </tr>\n  </thead>\n  <tbody>\n    <tr>\n      <th>0</th>\n      <td>1</td>\n      <td>4</td>\n    </tr>\n    <tr>\n      <th>1</th>\n      <td>11</td>\n      <td>-1</td>\n    </tr>\n    <tr>\n      <th>2</th>\n      <td>12</td>\n      <td>-1</td>\n    </tr>\n    <tr>\n      <th>3</th>\n      <td>13</td>\n      <td>0</td>\n    </tr>\n    <tr>\n      <th>4</th>\n      <td>141</td>\n      <td>-1</td>\n    </tr>\n  </tbody>\n</table>\n</div>"
     },
     "execution_count": 36,
     "metadata": {},
     "output_type": "execute_result"
    }
   ],
   "source": [
    "df_cfr_topic = pd.read_csv('cfr_topic.csv', usecols = [\"PartNo\", \"Topics\"])\n",
    "df_cfr_topic.columns = [\"CFR_PART\", \"Topics\"]\n",
    "df_cfr_topic.head()"
   ],
   "metadata": {
    "colab": {
     "base_uri": "https://localhost:8080/",
     "height": 206
    },
    "id": "as2zDAV5a9SY",
    "outputId": "53f025af-1c44-42fe-d793-965d95e1a390"
   }
  },
  {
   "cell_type": "code",
   "execution_count": 37,
   "outputs": [
    {
     "data": {
      "text/plain": "    USC_SECTION  USC_SECTION_Topics  CFR_TITLE CFR_PART  CFR_PART_Topics\n0             1                   5         26        1                4\n24          101                  11         26        1                4\n155        1017                  18         26        1                4\n25          103                   6         26        1                4\n306         103                   6         26       5f               -1\n156        1032                   0         26        1                4\n26         103A                  12         26        1                4\n309        103A                  12         26       6a               -1\n157        1059                   0         26        1                4\n158        1060                  -1         26        1                4\n27          108                  -1         26        1                4\n159        1092                  -1         26        1                4\n28          110                  15         26        1                4\n160        1202                  -1         26        1                4\n161        1221                   0         26        1                4\n162        1244                  -1         26        1                4\n163        1248                   0         26        1                4\n164        1254                   8         26        1                4\n165        1275                   6         26        1                4\n166        1286                   6         26        1                4\n167        1288                  -1         26        1                4\n29          129                  26         26        1                4\n168        1291                  -1         26        1                4\n169        1293                  -1         26        1                4\n171        1298                  -1         26        1                4\n170        1298                  -1         26        1                4\n172        1301                  -1         26        1                4\n30          132                  -1         26        1                4\n173        1361                  -1         26        1                4\n174        1368                  -1         26        1                4\n175        1374                  -1         26        1                4\n176        1377                  -1         26        1                4\n177        1378                   3         26        1                4\n367        1391                  -1          7       25               24\n178       1397D                  -1         26        1                4\n179       1397E                  12         26        1                4\n180        1402                  -1         26        1                4\n258         143                  -1         26      521               14\n259         144                   6         26      521               14\n262        1441                  14         26       31               -1\n181        1441                  14         26        1                4\n182        1443                  -1         26        1                4\n183        1445                   9         26        1                4\n184        1471                   9         26        1                4\n185        1472                  -1         26        1                4\n186        1473                  -1         26        1                4\n187        1474                  -1         26        1                4\n31          148                   6         26        1                4\n32          149                   6         26        1                4\n33          150                   6         26        1                4",
      "text/html": "<div>\n<style scoped>\n    .dataframe tbody tr th:only-of-type {\n        vertical-align: middle;\n    }\n\n    .dataframe tbody tr th {\n        vertical-align: top;\n    }\n\n    .dataframe thead th {\n        text-align: right;\n    }\n</style>\n<table border=\"1\" class=\"dataframe\">\n  <thead>\n    <tr style=\"text-align: right;\">\n      <th></th>\n      <th>USC_SECTION</th>\n      <th>USC_SECTION_Topics</th>\n      <th>CFR_TITLE</th>\n      <th>CFR_PART</th>\n      <th>CFR_PART_Topics</th>\n    </tr>\n  </thead>\n  <tbody>\n    <tr>\n      <th>0</th>\n      <td>1</td>\n      <td>5</td>\n      <td>26</td>\n      <td>1</td>\n      <td>4</td>\n    </tr>\n    <tr>\n      <th>24</th>\n      <td>101</td>\n      <td>11</td>\n      <td>26</td>\n      <td>1</td>\n      <td>4</td>\n    </tr>\n    <tr>\n      <th>155</th>\n      <td>1017</td>\n      <td>18</td>\n      <td>26</td>\n      <td>1</td>\n      <td>4</td>\n    </tr>\n    <tr>\n      <th>25</th>\n      <td>103</td>\n      <td>6</td>\n      <td>26</td>\n      <td>1</td>\n      <td>4</td>\n    </tr>\n    <tr>\n      <th>306</th>\n      <td>103</td>\n      <td>6</td>\n      <td>26</td>\n      <td>5f</td>\n      <td>-1</td>\n    </tr>\n    <tr>\n      <th>156</th>\n      <td>1032</td>\n      <td>0</td>\n      <td>26</td>\n      <td>1</td>\n      <td>4</td>\n    </tr>\n    <tr>\n      <th>26</th>\n      <td>103A</td>\n      <td>12</td>\n      <td>26</td>\n      <td>1</td>\n      <td>4</td>\n    </tr>\n    <tr>\n      <th>309</th>\n      <td>103A</td>\n      <td>12</td>\n      <td>26</td>\n      <td>6a</td>\n      <td>-1</td>\n    </tr>\n    <tr>\n      <th>157</th>\n      <td>1059</td>\n      <td>0</td>\n      <td>26</td>\n      <td>1</td>\n      <td>4</td>\n    </tr>\n    <tr>\n      <th>158</th>\n      <td>1060</td>\n      <td>-1</td>\n      <td>26</td>\n      <td>1</td>\n      <td>4</td>\n    </tr>\n    <tr>\n      <th>27</th>\n      <td>108</td>\n      <td>-1</td>\n      <td>26</td>\n      <td>1</td>\n      <td>4</td>\n    </tr>\n    <tr>\n      <th>159</th>\n      <td>1092</td>\n      <td>-1</td>\n      <td>26</td>\n      <td>1</td>\n      <td>4</td>\n    </tr>\n    <tr>\n      <th>28</th>\n      <td>110</td>\n      <td>15</td>\n      <td>26</td>\n      <td>1</td>\n      <td>4</td>\n    </tr>\n    <tr>\n      <th>160</th>\n      <td>1202</td>\n      <td>-1</td>\n      <td>26</td>\n      <td>1</td>\n      <td>4</td>\n    </tr>\n    <tr>\n      <th>161</th>\n      <td>1221</td>\n      <td>0</td>\n      <td>26</td>\n      <td>1</td>\n      <td>4</td>\n    </tr>\n    <tr>\n      <th>162</th>\n      <td>1244</td>\n      <td>-1</td>\n      <td>26</td>\n      <td>1</td>\n      <td>4</td>\n    </tr>\n    <tr>\n      <th>163</th>\n      <td>1248</td>\n      <td>0</td>\n      <td>26</td>\n      <td>1</td>\n      <td>4</td>\n    </tr>\n    <tr>\n      <th>164</th>\n      <td>1254</td>\n      <td>8</td>\n      <td>26</td>\n      <td>1</td>\n      <td>4</td>\n    </tr>\n    <tr>\n      <th>165</th>\n      <td>1275</td>\n      <td>6</td>\n      <td>26</td>\n      <td>1</td>\n      <td>4</td>\n    </tr>\n    <tr>\n      <th>166</th>\n      <td>1286</td>\n      <td>6</td>\n      <td>26</td>\n      <td>1</td>\n      <td>4</td>\n    </tr>\n    <tr>\n      <th>167</th>\n      <td>1288</td>\n      <td>-1</td>\n      <td>26</td>\n      <td>1</td>\n      <td>4</td>\n    </tr>\n    <tr>\n      <th>29</th>\n      <td>129</td>\n      <td>26</td>\n      <td>26</td>\n      <td>1</td>\n      <td>4</td>\n    </tr>\n    <tr>\n      <th>168</th>\n      <td>1291</td>\n      <td>-1</td>\n      <td>26</td>\n      <td>1</td>\n      <td>4</td>\n    </tr>\n    <tr>\n      <th>169</th>\n      <td>1293</td>\n      <td>-1</td>\n      <td>26</td>\n      <td>1</td>\n      <td>4</td>\n    </tr>\n    <tr>\n      <th>171</th>\n      <td>1298</td>\n      <td>-1</td>\n      <td>26</td>\n      <td>1</td>\n      <td>4</td>\n    </tr>\n    <tr>\n      <th>170</th>\n      <td>1298</td>\n      <td>-1</td>\n      <td>26</td>\n      <td>1</td>\n      <td>4</td>\n    </tr>\n    <tr>\n      <th>172</th>\n      <td>1301</td>\n      <td>-1</td>\n      <td>26</td>\n      <td>1</td>\n      <td>4</td>\n    </tr>\n    <tr>\n      <th>30</th>\n      <td>132</td>\n      <td>-1</td>\n      <td>26</td>\n      <td>1</td>\n      <td>4</td>\n    </tr>\n    <tr>\n      <th>173</th>\n      <td>1361</td>\n      <td>-1</td>\n      <td>26</td>\n      <td>1</td>\n      <td>4</td>\n    </tr>\n    <tr>\n      <th>174</th>\n      <td>1368</td>\n      <td>-1</td>\n      <td>26</td>\n      <td>1</td>\n      <td>4</td>\n    </tr>\n    <tr>\n      <th>175</th>\n      <td>1374</td>\n      <td>-1</td>\n      <td>26</td>\n      <td>1</td>\n      <td>4</td>\n    </tr>\n    <tr>\n      <th>176</th>\n      <td>1377</td>\n      <td>-1</td>\n      <td>26</td>\n      <td>1</td>\n      <td>4</td>\n    </tr>\n    <tr>\n      <th>177</th>\n      <td>1378</td>\n      <td>3</td>\n      <td>26</td>\n      <td>1</td>\n      <td>4</td>\n    </tr>\n    <tr>\n      <th>367</th>\n      <td>1391</td>\n      <td>-1</td>\n      <td>7</td>\n      <td>25</td>\n      <td>24</td>\n    </tr>\n    <tr>\n      <th>178</th>\n      <td>1397D</td>\n      <td>-1</td>\n      <td>26</td>\n      <td>1</td>\n      <td>4</td>\n    </tr>\n    <tr>\n      <th>179</th>\n      <td>1397E</td>\n      <td>12</td>\n      <td>26</td>\n      <td>1</td>\n      <td>4</td>\n    </tr>\n    <tr>\n      <th>180</th>\n      <td>1402</td>\n      <td>-1</td>\n      <td>26</td>\n      <td>1</td>\n      <td>4</td>\n    </tr>\n    <tr>\n      <th>258</th>\n      <td>143</td>\n      <td>-1</td>\n      <td>26</td>\n      <td>521</td>\n      <td>14</td>\n    </tr>\n    <tr>\n      <th>259</th>\n      <td>144</td>\n      <td>6</td>\n      <td>26</td>\n      <td>521</td>\n      <td>14</td>\n    </tr>\n    <tr>\n      <th>262</th>\n      <td>1441</td>\n      <td>14</td>\n      <td>26</td>\n      <td>31</td>\n      <td>-1</td>\n    </tr>\n    <tr>\n      <th>181</th>\n      <td>1441</td>\n      <td>14</td>\n      <td>26</td>\n      <td>1</td>\n      <td>4</td>\n    </tr>\n    <tr>\n      <th>182</th>\n      <td>1443</td>\n      <td>-1</td>\n      <td>26</td>\n      <td>1</td>\n      <td>4</td>\n    </tr>\n    <tr>\n      <th>183</th>\n      <td>1445</td>\n      <td>9</td>\n      <td>26</td>\n      <td>1</td>\n      <td>4</td>\n    </tr>\n    <tr>\n      <th>184</th>\n      <td>1471</td>\n      <td>9</td>\n      <td>26</td>\n      <td>1</td>\n      <td>4</td>\n    </tr>\n    <tr>\n      <th>185</th>\n      <td>1472</td>\n      <td>-1</td>\n      <td>26</td>\n      <td>1</td>\n      <td>4</td>\n    </tr>\n    <tr>\n      <th>186</th>\n      <td>1473</td>\n      <td>-1</td>\n      <td>26</td>\n      <td>1</td>\n      <td>4</td>\n    </tr>\n    <tr>\n      <th>187</th>\n      <td>1474</td>\n      <td>-1</td>\n      <td>26</td>\n      <td>1</td>\n      <td>4</td>\n    </tr>\n    <tr>\n      <th>31</th>\n      <td>148</td>\n      <td>6</td>\n      <td>26</td>\n      <td>1</td>\n      <td>4</td>\n    </tr>\n    <tr>\n      <th>32</th>\n      <td>149</td>\n      <td>6</td>\n      <td>26</td>\n      <td>1</td>\n      <td>4</td>\n    </tr>\n    <tr>\n      <th>33</th>\n      <td>150</td>\n      <td>6</td>\n      <td>26</td>\n      <td>1</td>\n      <td>4</td>\n    </tr>\n  </tbody>\n</table>\n</div>"
     },
     "execution_count": 37,
     "metadata": {},
     "output_type": "execute_result"
    }
   ],
   "source": [
    "merged_df = df_usc_topic.merge(df_usc_sections, on='USC_SECTION').merge(df_cfr_topic, on='CFR_PART')\n",
    "\n",
    "new_df = merged_df[['USC_SECTION', 'Topics_x', 'CFR_TITLE', 'CFR_PART', 'Topics_y']]\n",
    "\n",
    "new_df.columns = ['USC_SECTION', 'USC_SECTION_Topics', 'CFR_TITLE', 'CFR_PART', 'CFR_PART_Topics']\n",
    "\n",
    "# Print the new dataframe\n",
    "# print(new_df.head(50))\n",
    "new_df = new_df.sort_values('USC_SECTION')\n",
    "new_df.head(50)"
   ],
   "metadata": {
    "colab": {
     "base_uri": "https://localhost:8080/",
     "height": 1000
    },
    "id": "a8UoETTFa9Sb",
    "outputId": "97a0f17f-f598-40b8-b869-197d2242fce3"
   }
  },
  {
   "cell_type": "code",
   "source": [],
   "metadata": {
    "id": "SdCoGgJ4gvBF",
    "pycharm": {
     "is_executing": true
    }
   },
   "execution_count": null,
   "outputs": []
  },
  {
   "cell_type": "code",
   "execution_count": 37,
   "outputs": [],
   "source": [],
   "metadata": {
    "collapsed": false
   }
  }
 ],
 "metadata": {
  "kernelspec": {
   "display_name": "Python 3",
   "language": "python",
   "name": "python3"
  },
  "language_info": {
   "codemirror_mode": {
    "name": "ipython",
    "version": 2
   },
   "file_extension": ".py",
   "mimetype": "text/x-python",
   "name": "python",
   "nbconvert_exporter": "python",
   "pygments_lexer": "ipython2",
   "version": "2.7.6"
  },
  "colab": {
   "provenance": []
  }
 },
 "nbformat": 4,
 "nbformat_minor": 0
}
